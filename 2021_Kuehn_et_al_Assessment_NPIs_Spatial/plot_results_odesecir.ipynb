{
 "cells": [
  {
   "cell_type": "code",
   "execution_count": null,
   "metadata": {},
   "outputs": [],
   "source": [
    "import pandas as pd\n",
    "import numpy as np\n",
    "import h5py\n",
    "import os\n",
    "import datetime\n",
    "import copy\n",
    "import matplotlib.pyplot as plt\n",
    "from matplotlib import ticker\n",
    "plt.rcParams['figure.facecolor'] = 'w'\n",
    "plt.rcParams['axes.facecolor'] = 'w'"
   ]
  },
  {
   "cell_type": "markdown",
   "metadata": {},
   "source": [
    "### Model parameters"
   ]
  },
  {
   "cell_type": "code",
   "execution_count": null,
   "metadata": {},
   "outputs": [],
   "source": [
    "# Define compartments\n",
    "secir_dict = {0:'Susceptible', 1:'Exposed',2:'Carrier', 3:'Infected', 4:'Hospitalized',\n",
    "              5:'ICU', 6:'Recovered', 7:'Death'}\n",
    "\n",
    "\n",
    "# Define age groups\n",
    "age_groups = ['0-4 Years', '5-14 Years', '15-34 Years', '35-59 Years', '60-79 Years', '80+ Years']\n",
    "\n",
    "# Define population data for incidence values and relative plots\n",
    "base = 100000\n",
    "age_group_sizes = np.array([3961376,7429883,19117865,28919134,18057318,5681135])\n",
    "\n",
    "relative_dict = {}\n",
    "for i in range(len(age_group_sizes)):\n",
    "    relative_dict['Group' + str(i+1)] = age_group_sizes[i]/base\n",
    "    \n",
    "relative_dict['Total'] = np.sum(age_group_sizes)/base   "
   ]
  },
  {
   "cell_type": "markdown",
   "metadata": {},
   "source": [
    "### Simulation parameters "
   ]
  },
  {
   "cell_type": "code",
   "execution_count": null,
   "metadata": {},
   "outputs": [],
   "source": [
    "# Define start day and simulation period\n",
    "year, month, day = '2020', '6', '1'\n",
    "start_date = pd.Timestamp(year + '.' + month.zfill(2) + '.' + day.zfill(2))\n",
    "tmax = '90'\n",
    "daysPlot = 90\n",
    "\n",
    "# Define scenario path and different folders that will be read and plotted\n",
    "date_str = '_' + str(year) + '_' + str(month) + '_' + str(day) + '_' + str(tmax)\n",
    "path_sim = 'data/'\n",
    "path_rki = 'data/extrapolated_rki_results'\n",
    "scenario_list = ['']"
   ]
  },
  {
   "cell_type": "markdown",
   "metadata": {},
   "source": [
    "### Loading data"
   ]
  },
  {
   "cell_type": "code",
   "execution_count": null,
   "metadata": {},
   "outputs": [],
   "source": [
    "files = open_files(read_casereports_extrapolation=plotRKI)\n",
    "files[''].keys()"
   ]
  },
  {
   "cell_type": "code",
   "execution_count": null,
   "metadata": {},
   "outputs": [],
   "source": [
    "# Opens files from folder\n",
    "# @param path_sim Path where simulation files have been written\n",
    "# @param path_rki Path where extrapolated real data have been written\n",
    "# @param spec_str_sim Specified string after results (e.g. date) that points to a specific set of scenario folders\n",
    "# @param spec_str_rki1 Specified string in results folder (e.g. date) that points to a specific RKI data folder\n",
    "# @param spec_str_rki2 Specified string in results file that points to a specific RKI data file\n",
    "# @param scenario_list List of string indicators for scenarios to be plotted\n",
    "# @param percentiles List of percentiles to be printed (sublist from ['p50','p25','p75','p05','p95'])\n",
    "# @param read_casereports_extrapolation Defines if extrapolated reporting data (from RKI) will be loaded\n",
    "def open_files(path_sim = path_sim, spec_str_sim = date_str, path_rki = path_rki, spec_str_rki1 = date_str, spec_str_rki2 = '',\n",
    "               scenario_list = scenario_list, percentiles = ['p50','p25','p75','p05','p95'], read_casereports_extrapolation = False):\n",
    "    \n",
    "    files = {}\n",
    "\n",
    "    for scenario in scenario_list:\n",
    "        files[scenario] = {}\n",
    "\n",
    "        path = path_sim + 'results' + spec_str_sim + scenario\n",
    "\n",
    "        for p in percentiles:\n",
    "            files[scenario][p] = h5py.File(path + '/' + p + '/Results_sum.h5', 'r')\n",
    "\n",
    "        if read_casereports_extrapolation:\n",
    "            files[scenario]['RKI'] = h5py.File(path_rki + spec_str_rki1 + '/Results_rki_sum' + spec_str_rki2 +'.h5', 'r')\n",
    "                \n",
    "    \n",
    "    return files\n",
    "\n",
    "# Closes file handles in @files\n",
    "# @param files File handles of open HDF5 files\n",
    "def close_files(files):\n",
    "    for group in files:\n",
    "        for file in files[group]:\n",
    "            files[group][file].close()"
   ]
  },
  {
   "cell_type": "markdown",
   "metadata": {},
   "source": [
    "### Plot parameters"
   ]
  },
  {
   "cell_type": "code",
   "execution_count": null,
   "metadata": {},
   "outputs": [],
   "source": [
    "# define colors for age groups\n",
    "def get_cmap(n, name='hsv'):\n",
    "    '''Returns a function that maps each index in 0, 1, ..., n-1 to a distinct \n",
    "    RGB color; the keyword argument name must be a standard mpl colormap name.'''\n",
    "    return plt.cm.get_cmap(name, n)\n",
    "\n",
    "plt_colors = plt.rcParams['axes.prop_cycle'].by_key()['color']\n",
    "\n",
    "colors = {}\n",
    "colors['Total'] = plt_colors[0]\n",
    "for i in range(len(age_groups)):\n",
    "    colors['Group' + str(i+1)] = plt_colors[i+1]"
   ]
  },
  {
   "cell_type": "code",
   "execution_count": null,
   "metadata": {},
   "outputs": [],
   "source": [
    "plotRKI = True          # Plots RKI Data if true\n",
    "plotRelative = False     # Plots incidence values if true\n",
    "plotPercentiles = True  # Plots 25 and 75 percentiles if true\n",
    "plotConfidence = True   # Plots 05 and 95 percentiles if true"
   ]
  },
  {
   "cell_type": "code",
   "execution_count": null,
   "metadata": {},
   "outputs": [],
   "source": [
    "savePlot = True          # saves plot file if true\n",
    "if savePlot:\n",
    "    try:\n",
    "        os.mkdir('Plots')\n",
    "    except:\n",
    "        print('Directory \"Plots\" already exists')"
   ]
  },
  {
   "cell_type": "code",
   "execution_count": null,
   "metadata": {},
   "outputs": [],
   "source": [
    "opacity = 0.15           \n",
    "lineWidth = 3.5\n",
    "fontsize = 18\n",
    "figsize = (16, 10)\n",
    "\n",
    "#define x-ticks for plots\n",
    "datelist = np.array(pd.date_range(start_date.date(), periods=daysPlot, freq='D').strftime('%m-%d').tolist())\n",
    "tick_range = (np.arange(int(daysPlot / 10) + 1) * 10)\n",
    "tick_range[-1] -= 1"
   ]
  },
  {
   "cell_type": "markdown",
   "metadata": {},
   "source": [
    "### Plot functions"
   ]
  },
  {
   "cell_type": "code",
   "execution_count": null,
   "metadata": {},
   "outputs": [],
   "source": [
    "def plot_results(files, comp_idx, title, regionid='0', key='Total'):\n",
    "    fig, ax = plt.subplots(figsize=figsize)\n",
    "    \n",
    "    if plotRelative:\n",
    "        factor = relative_dict[key]\n",
    "    else:\n",
    "        factor = 1\n",
    "        \n",
    "    if 'Group1' not in files['p50'].keys(): \n",
    "        files_plot_p50 = files['p50'][regionid]\n",
    "        X = files['p50'][regionid]['Time'][:]\n",
    "    else: # backward stability for IO as of 2020/2021\n",
    "        files_plot_p50 = files['p50']\n",
    "        X = files['p50']['Time'][:]\n",
    "    \n",
    "    ax.plot(X, files_plot_p50[key][:, comp_idx]/factor, label='p50',\n",
    "            color=colors[key], linewidth=lineWidth)\n",
    "    if plotPercentiles:   \n",
    "        if 'Group1' not in files['p25'].keys():\n",
    "            files_plot_p25 = files['p25'][regionid]\n",
    "            files_plot_p75 = files['p75'][regionid]\n",
    "        else: # backward stability for IO as of 2020/2021 \n",
    "            files_plot_p25 = files['p25']\n",
    "            files_plot_p75 = files['p75']\n",
    "\n",
    "        ax.plot(X, files_plot_p25[key][:, comp_idx]/factor,'--', label='p25',\n",
    "                color=colors[key], linewidth=lineWidth)\n",
    "        ax.plot(X, files_plot_p75[key][:, comp_idx]/factor,'--',  label='p75',\n",
    "                color=colors[key], linewidth=lineWidth)\n",
    "        ax.fill_between(X, files_plot_p25[key][:, comp_idx]/factor,\n",
    "                        files_plot_p75[key][:, comp_idx]/factor,\n",
    "                        color=colors[key], alpha=opacity) \n",
    "    if plotConfidence: \n",
    "        if 'Group1' not in files['p05'].keys():\n",
    "            files_plot_p05 = files['p05'][regionid]\n",
    "            files_plot_p95 = files['p95'][regionid]\n",
    "        else: # backward stability for IO as of 2020/2021 \n",
    "            files_plot_p05 = files['p05']\n",
    "            files_plot_p95 = files['p95']    \n",
    "\n",
    "        ax.plot(X, files_plot_p05[key][:, comp_idx]/factor,'--', label='p05',\n",
    "                color=colors[key], linewidth=lineWidth)\n",
    "        ax.plot(X, files_plot_p95[key][:, comp_idx]/factor,'--',  label='p95',\n",
    "                color=colors[key], linewidth=lineWidth)\n",
    "        ax.fill_between(X, files_plot_p05[key][:, comp_idx]/factor, \n",
    "                        files_plot_p95[key][:, comp_idx]/factor,\n",
    "                        color=colors[key], alpha=opacity) \n",
    "        \n",
    "    if plotRKI:\n",
    "        if 'RKI' in files.keys():\n",
    "            if 'Group1' not in files['p05'].keys():\n",
    "                files_rki = files['RKI'][regionid]\n",
    "            else: # backward stability for IO as of 2020/2021 \n",
    "                files_rki = files['RKI']\n",
    "            ax.plot(X, files_rki[key][:, comp_idx]/factor,'--', label='RKI',\n",
    "                color='gray', linewidth=lineWidth)\n",
    "        else:\n",
    "            print('Error: Plotting extrapolated real data demanded but not read in.')\n",
    "        \n",
    "\n",
    "    ax.set_title(title, fontsize=18)\n",
    "    ax.set_xticks(tick_range)\n",
    "    ax.set_xticklabels(datelist[tick_range], rotation=45, fontsize=fontsize)\n",
    "    if plotRelative:\n",
    "        ax.set_ylabel('individuals relative per 100.000', fontsize=fontsize)\n",
    "    else:\n",
    "        ax.set_ylabel('number of individuals', fontsize=fontsize)\n",
    "    ax.legend(fontsize=fontsize)\n",
    "    plt.yticks(fontsize=fontsize)\n",
    "    ax.grid(linestyle='dotted')\n",
    "    \n",
    "    formatter = ticker.ScalarFormatter(useMathText=True)\n",
    "    formatter.set_scientific(True) \n",
    "    formatter.set_powerlimits((-1,1)) \n",
    "    ax.yaxis.set_major_formatter(formatter) \n",
    "    ax.yaxis.offsetText.set_fontsize(fontsize)\n",
    "    \n",
    "    if savePlot:\n",
    "        fig.savefig('Plots/' + title + '.png')\n"
   ]
  },
  {
   "cell_type": "markdown",
   "metadata": {},
   "source": [
    "### Plot total population "
   ]
  },
  {
   "cell_type": "code",
   "execution_count": null,
   "metadata": {
    "scrolled": false
   },
   "outputs": [],
   "source": [
    "files = open_files(read_casereports_extrapolation=plotRKI)\n",
    "for scenario in scenario_list:\n",
    "    for compart in range(len(secir_dict)):\n",
    "        plot_results(files[scenario], compart, secir_dict[compart], key='Total')\n",
    "        \n",
    "close_files(files)"
   ]
  },
  {
   "cell_type": "markdown",
   "metadata": {},
   "source": [
    "### Plot group population"
   ]
  },
  {
   "cell_type": "code",
   "execution_count": null,
   "metadata": {},
   "outputs": [],
   "source": [
    "print(files['']['p50'].keys())"
   ]
  },
  {
   "cell_type": "code",
   "execution_count": null,
   "metadata": {
    "scrolled": false
   },
   "outputs": [],
   "source": [
    "files = open_files(read_casereports_extrapolation=plotRKI)\n",
    "for scenario in scenario_list:\n",
    "    for compart in range(len(secir_dict)):\n",
    "        for group in range(len(age_groups)):\n",
    "            plot_results(files[scenario], compart, secir_dict[compart] + ' ' + age_groups[group],\n",
    "                         key='Group' + str(group+1))\n",
    "            \n",
    "close_files(files)"
   ]
  }
 ],
 "metadata": {
  "kernelspec": {
   "display_name": "Python 3 (ipykernel)",
   "language": "python",
   "name": "python3"
  },
  "language_info": {
   "codemirror_mode": {
    "name": "ipython",
    "version": 3
   },
   "file_extension": ".py",
   "mimetype": "text/x-python",
   "name": "python",
   "nbconvert_exporter": "python",
   "pygments_lexer": "ipython3",
   "version": "3.8.10"
  },
  "vscode": {
   "interpreter": {
    "hash": "916dbcbb3f70747c44a77c7bcd40155683ae19c65e1c03b4aa3499c5328201f1"
   }
  }
 },
 "nbformat": 4,
 "nbformat_minor": 4
}
